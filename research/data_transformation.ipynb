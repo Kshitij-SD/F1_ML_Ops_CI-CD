{
 "cells": [
  {
   "cell_type": "code",
   "execution_count": 1,
   "metadata": {},
   "outputs": [],
   "source": [
    "import os"
   ]
  },
  {
   "cell_type": "code",
   "execution_count": 2,
   "metadata": {},
   "outputs": [
    {
     "data": {
      "text/plain": [
       "'c:\\\\Users\\\\Kshitij\\\\Downloads\\\\F1_CICD\\\\F1_ML_Ops_CI-CD\\\\research'"
      ]
     },
     "execution_count": 2,
     "metadata": {},
     "output_type": "execute_result"
    }
   ],
   "source": [
    "%pwd"
   ]
  },
  {
   "cell_type": "code",
   "execution_count": 3,
   "metadata": {},
   "outputs": [],
   "source": [
    "os.chdir(\"../\")"
   ]
  },
  {
   "cell_type": "code",
   "execution_count": 4,
   "metadata": {},
   "outputs": [
    {
     "data": {
      "text/plain": [
       "'c:\\\\Users\\\\Kshitij\\\\Downloads\\\\F1_CICD\\\\F1_ML_Ops_CI-CD'"
      ]
     },
     "execution_count": 4,
     "metadata": {},
     "output_type": "execute_result"
    }
   ],
   "source": [
    "%pwd"
   ]
  },
  {
   "cell_type": "code",
   "execution_count": 5,
   "metadata": {},
   "outputs": [],
   "source": [
    "from dataclasses import dataclass\n",
    "from pathlib import Path\n",
    "\n",
    "@dataclass(frozen=True)\n",
    "class DataTransformationConfig:\n",
    "    root_dir: Path\n",
    "    data_path: Path"
   ]
  },
  {
   "cell_type": "code",
   "execution_count": 7,
   "metadata": {},
   "outputs": [],
   "source": [
    "from F1_Stint_Prediction.constants import *\n",
    "from F1_Stint_Prediction.utils.common import read_yaml,create_directories"
   ]
  },
  {
   "cell_type": "code",
   "execution_count": 12,
   "metadata": {},
   "outputs": [],
   "source": [
    "class ConfigurationManager:\n",
    "    def __init__(\n",
    "        self,\n",
    "        config_filepath = CONFIG_FILE_PATH,\n",
    "        params_filepath = PARAMS_FILE_PATH,\n",
    "        schema_filepath = SCHEMA_FILE_PATH):\n",
    "\n",
    "        self.config = read_yaml(config_filepath)\n",
    "        self.params = read_yaml(params_filepath)\n",
    "        self.schema = read_yaml(schema_filepath)\n",
    "\n",
    "        create_directories([self.config.artifacts_root])\n",
    "\n",
    "\n",
    "    \n",
    "    def get_data_transformation_config(self) -> DataTransformationConfig:\n",
    "        config = self.config.data_transformation\n",
    "\n",
    "        create_directories([config.root_dir])\n",
    "\n",
    "        data_transformation_config = DataTransformationConfig(\n",
    "            root_dir=config.root_dir,\n",
    "            data_path=config.data_path,\n",
    "        )\n",
    "\n",
    "        return data_transformation_config"
   ]
  },
  {
   "cell_type": "code",
   "execution_count": 13,
   "metadata": {},
   "outputs": [],
   "source": [
    "import os\n",
    "from sklearn.model_selection import train_test_split\n",
    "import pandas as pd\n",
    "from F1_Stint_Prediction import logger\n",
    "from sklearn.preprocessing import LabelEncoder"
   ]
  },
  {
   "cell_type": "code",
   "execution_count": null,
   "metadata": {},
   "outputs": [],
   "source": [
    "class DataTransformation:\n",
    "    def __init__(self, config: DataTransformationConfig):\n",
    "        self.config = config\n",
    "        \n",
    "    def get_transformed_data(self):    \n",
    "        df = pd.read_csv(self.config.data_path)\n",
    "        #Add stint_number\n",
    "        df['stint_num'] = df.groupby(['EventName', 'RoundNumber', 'EventYear', 'Team', 'Driver']).cumcount() + 1\n",
    "        # Add total number of stints\n",
    "        grouped = df.groupby(['EventName','EventYear','Driver'])\n",
    "        strategy_data = grouped.apply(lambda x: pd.Series({\n",
    "            'num_stints': len(x),\n",
    "            'stint_compounds': list(x['Compound']),\n",
    "            'stint_lengths': list(x['StintLen'])\n",
    "        })).reset_index()\n",
    "        merged_data = pd.merge(df, strategy_data, on=['EventName', 'EventYear', 'Driver'])\n",
    "\n",
    "        # Remove data where number of Stints is 1\n",
    "        merged_data = merged_data[merged_data['num_stints'] != 1]\n",
    "\n",
    "        #Encode categorical variables\n",
    "        le_event = LabelEncoder()\n",
    "        le_compound = LabelEncoder()\n",
    "\n",
    "        merged_data['EventEncoded'] = le_event.fit_transform(merged_data['EventName'])\n",
    "        merged_data['CompoundEncoded'] = le_compound.fit_transform(merged_data['Compound'])\n",
    "\n",
    "        #Remove data in which number of stints is more than 5 or less than 1\n",
    "        merged_data=merged_data[merged_data['num_stints']!=1]\n",
    "        merged_data=merged_data[merged_data['num_stints']<5]\n",
    "\n",
    "        #Removing data in which stint lentgh is more than 35 or less than 5\n",
    "        merged_data = merged_data[merged_data['StintLen']>5]\n",
    "        merged_data = merged_data[merged_data['StintLen']<35]  \n",
    "        \n",
    "        #Create temporal features\n",
    "        merged_data['prev_stint_length'] = merged_data.groupby(['EventName', 'EventYear', 'Driver'])['StintLen'].shift(1)\n",
    "        merged_data['cumulative_laps'] = merged_data.groupby(['EventName', 'EventYear', 'Driver'])['StintLen'].cumsum()\n",
    "        merged_data.fillna(0, inplace=True)\n",
    "        \n",
    "        features_stint_num = ['CircuitLength', 'DesignedLaps','TrackTemp', 'AirTemp','EventEncoded'] \n",
    "        features_stint_compound = ['CircuitLength', 'cumulative_laps', 'TrackTemp', 'AirTemp','stint_num','EventEncoded','Humidity', 'Rainfall','SafetyCar']\n",
    "        features_stint_length = ['CircuitLength', 'TrackTemp', 'AirTemp','prev_stint_length','EventEncoded','DegradationSlope', 'DegradationBias','DesignedLaps','Humidity', 'Rainfall','SafetyCar']\n",
    "            \n",
    "        target_total_stints = 'num_stints'\n",
    "        target_compound = 'CompoundEncoded'\n",
    "        target_stint_len = 'StintLen'\n",
    "        \n",
    "        X_stint_count = merged_data.drop_duplicates(subset=['EventName', 'EventYear', 'Driver'])[features_stint_num]\n",
    "        y_stint_count = merged_data.drop_duplicates(subset=['EventName', 'EventYear', 'Driver'])[target_total_stints]\n",
    "        \n",
    "        self.train_test_spliting(X_stint_count,y_stint_count,\"stitn_count\",0)\n",
    "        \n",
    "        s1_df = merged_data[merged_data['stint_num']==1]\n",
    "        s1_df = s1_df[features_stint_compound]\n",
    "\n",
    "        s2_df = merged_data[merged_data['stint_num']==2]\n",
    "        s2_df = s2_df[features_stint_compound]\n",
    "\n",
    "        s3_df = merged_data[merged_data['stint_num']==3]\n",
    "        s3_df = s3_df[features_stint_compound]\n",
    "\n",
    "        s4_df = merged_data[merged_data['stint_num']==4]\n",
    "        s4_df = s4_df[features_stint_compound]\n",
    "        \n",
    "        y_s1 = merged_data.loc[merged_data['stint_num'] == 1][target_compound]\n",
    "        y_s2 = merged_data.loc[merged_data['stint_num'] == 2][target_compound]\n",
    "        y_s3 = merged_data.loc[merged_data['stint_num'] == 3][target_compound]\n",
    "        y_s4 = merged_data.loc[merged_data['stint_num'] == 4][target_compound]\n",
    "        \n",
    "        self.train_test_spliting(s1_df,y_s1,\"compound\",1)\n",
    "        self.train_test_spliting(s2_df,y_s2,\"compound\",2)\n",
    "        self.train_test_spliting(s3_df,y_s3,\"compound\",3)\n",
    "        self.train_test_spliting(s4_df,y_s4,\"compound\",4)\n",
    "        \n",
    "        s1_len_df = merged_data[merged_data['stint_num']==1]\n",
    "        s1_len_df = s1_len_df[features_stint_length]\n",
    "\n",
    "        s2_len_df = merged_data[merged_data['stint_num']==2]\n",
    "        s2_len_df = s2_len_df[features_stint_length]\n",
    "\n",
    "        s3_len_df = merged_data[merged_data['stint_num']==3]\n",
    "        s3_len_df = s3_len_df[features_stint_length]\n",
    "\n",
    "        s4_len_df = merged_data[merged_data['stint_num']==4]\n",
    "        s4_len_df = s4_len_df[features_stint_length]\n",
    "        \n",
    "        y_s1_len = merged_data.loc[merged_data['stint_num'] == 1][target_stint_len]\n",
    "        y_s2_len = merged_data.loc[merged_data['stint_num'] == 2][target_stint_len]\n",
    "        y_s3_len = merged_data.loc[merged_data['stint_num'] == 3][target_stint_len]\n",
    "        y_s4_len = merged_data.loc[merged_data['stint_num'] == 4][target_stint_len]\n",
    "        \n",
    "        self.train_test_spliting(s1_len_df,y_s1_len,\"stint_len\",1)\n",
    "        self.train_test_spliting(s2_len_df,y_s2_len,\"stint_len\",2)\n",
    "        self.train_test_spliting(s3_len_df,y_s3_len,\"stint_len\",3)\n",
    "        self.train_test_spliting(s4_len_df,y_s4_len,\"stint_len\",4)\n",
    "    \n",
    "    def train_test_spliting(self,X,y,name,num):\n",
    "        X=X\n",
    "        y=y\n",
    "        X_train, X_test, y_train, y_test = train_test_split(X,y,test_size=0.2,random_state=42)\n",
    "\n",
    "        X_train.to_csv(os.path.join(self.config.root_dir, f\"X_train_{name}_{num}.csv\"),index = False)\n",
    "        X_test.to_csv(os.path.join(self.config.root_dir, f\"X_test_{name}_{num}.csv\"),index = False)\n",
    "        y_train.to_csv(os.path.join(self.config.root_dir, f\"y_train_{name}_{num}.csv\"),index = False)\n",
    "        y_test.to_csv(os.path.join(self.config.root_dir,f\"y_test_{name}_{num}.csv\"),index = False)\n",
    "\n",
    "        logger.info(\"Splited data into training and test sets\")\n",
    "        logger.info(X_train.shape)\n",
    "        logger.info(X_test.shape)\n",
    "        logger.info(y_train.shape)\n",
    "        logger.info(y_test.shape)\n",
    "\n",
    "        print(X_train.shape)\n",
    "        print(X_test.shape)\n",
    "        print(y_train.shape)\n",
    "        print(y_test.shape)"
   ]
  },
  {
   "cell_type": "code",
   "execution_count": 20,
   "metadata": {},
   "outputs": [
    {
     "name": "stdout",
     "output_type": "stream",
     "text": [
      "[2025-03-24 20:16:21,387: INFO: common: yaml file: config\\config.yaml loaded successfully]\n",
      "[2025-03-24 20:16:21,387: INFO: common: yaml file: params.yaml loaded successfully]\n",
      "[2025-03-24 20:16:21,395: INFO: common: yaml file: schema.yaml loaded successfully]\n",
      "[2025-03-24 20:16:21,395: INFO: common: created directory at: artifacts]\n",
      "[2025-03-24 20:16:21,404: INFO: common: created directory at: artifacts/data_transformation]\n",
      "[2025-03-24 20:16:21,805: INFO: 3571002178: Splited data into training and test sets]\n",
      "[2025-03-24 20:16:21,805: INFO: 3571002178: (584, 5)]\n",
      "[2025-03-24 20:16:21,805: INFO: 3571002178: (584,)]\n",
      "[2025-03-24 20:16:21,805: INFO: 3571002178: (147, 5)]\n",
      "[2025-03-24 20:16:21,805: INFO: 3571002178: (147,)]\n",
      "(584, 5)\n",
      "(584,)\n",
      "(147, 5)\n",
      "(147,)\n",
      "[2025-03-24 20:16:21,852: INFO: 3571002178: Splited data into training and test sets]\n",
      "[2025-03-24 20:16:21,852: INFO: 3571002178: (453, 9)]\n",
      "[2025-03-24 20:16:21,860: INFO: 3571002178: (453,)]\n",
      "[2025-03-24 20:16:21,860: INFO: 3571002178: (114, 9)]\n",
      "[2025-03-24 20:16:21,860: INFO: 3571002178: (114,)]\n",
      "(453, 9)\n",
      "(453,)\n",
      "(114, 9)\n",
      "(114,)\n",
      "[2025-03-24 20:16:21,885: INFO: 3571002178: Splited data into training and test sets]\n",
      "[2025-03-24 20:16:21,885: INFO: 3571002178: (376, 9)]\n",
      "[2025-03-24 20:16:21,893: INFO: 3571002178: (376,)]\n",
      "[2025-03-24 20:16:21,893: INFO: 3571002178: (94, 9)]\n",
      "[2025-03-24 20:16:21,893: INFO: 3571002178: (94,)]\n",
      "(376, 9)\n",
      "(376,)\n",
      "(94, 9)\n",
      "(94,)\n",
      "[2025-03-24 20:16:21,919: INFO: 3571002178: Splited data into training and test sets]\n",
      "[2025-03-24 20:16:21,919: INFO: 3571002178: (249, 9)]\n",
      "[2025-03-24 20:16:21,919: INFO: 3571002178: (249,)]\n",
      "[2025-03-24 20:16:21,925: INFO: 3571002178: (63, 9)]\n",
      "[2025-03-24 20:16:21,928: INFO: 3571002178: (63,)]\n",
      "(249, 9)\n",
      "(249,)\n",
      "(63, 9)\n",
      "(63,)\n",
      "[2025-03-24 20:16:21,948: INFO: 3571002178: Splited data into training and test sets]\n"
     ]
    },
    {
     "name": "stderr",
     "output_type": "stream",
     "text": [
      "C:\\Users\\Kshitij\\AppData\\Local\\Temp\\ipykernel_29768\\3571002178.py:11: DeprecationWarning: DataFrameGroupBy.apply operated on the grouping columns. This behavior is deprecated, and in a future version of pandas the grouping columns will be excluded from the operation. Either pass `include_groups=False` to exclude the groupings or explicitly select the grouping columns after groupby to silence this warning.\n",
      "  strategy_data = grouped.apply(lambda x: pd.Series({\n"
     ]
    },
    {
     "name": "stdout",
     "output_type": "stream",
     "text": [
      "[2025-03-24 20:16:21,948: INFO: 3571002178: (64, 9)]\n",
      "[2025-03-24 20:16:21,952: INFO: 3571002178: (64,)]\n",
      "[2025-03-24 20:16:21,952: INFO: 3571002178: (16, 9)]\n",
      "[2025-03-24 20:16:21,954: INFO: 3571002178: (16,)]\n",
      "(64, 9)\n",
      "(64,)\n",
      "(16, 9)\n",
      "(16,)\n",
      "[2025-03-24 20:16:21,993: INFO: 3571002178: Splited data into training and test sets]\n",
      "[2025-03-24 20:16:22,001: INFO: 3571002178: (453, 11)]\n",
      "[2025-03-24 20:16:22,001: INFO: 3571002178: (453,)]\n",
      "[2025-03-24 20:16:22,007: INFO: 3571002178: (114, 11)]\n",
      "[2025-03-24 20:16:22,010: INFO: 3571002178: (114,)]\n",
      "(453, 11)\n",
      "(453,)\n",
      "(114, 11)\n",
      "(114,)\n",
      "[2025-03-24 20:16:22,042: INFO: 3571002178: Splited data into training and test sets]\n",
      "[2025-03-24 20:16:22,043: INFO: 3571002178: (376, 11)]\n",
      "[2025-03-24 20:16:22,043: INFO: 3571002178: (376,)]\n",
      "[2025-03-24 20:16:22,048: INFO: 3571002178: (94, 11)]\n",
      "[2025-03-24 20:16:22,052: INFO: 3571002178: (94,)]\n",
      "(376, 11)\n",
      "(376,)\n",
      "(94, 11)\n",
      "(94,)\n",
      "[2025-03-24 20:16:22,102: INFO: 3571002178: Splited data into training and test sets]\n",
      "[2025-03-24 20:16:22,103: INFO: 3571002178: (249, 11)]\n",
      "[2025-03-24 20:16:22,103: INFO: 3571002178: (249,)]\n",
      "[2025-03-24 20:16:22,111: INFO: 3571002178: (63, 11)]\n",
      "[2025-03-24 20:16:22,111: INFO: 3571002178: (63,)]\n",
      "(249, 11)\n",
      "(249,)\n",
      "(63, 11)\n",
      "(63,)\n",
      "[2025-03-24 20:16:22,143: INFO: 3571002178: Splited data into training and test sets]\n",
      "[2025-03-24 20:16:22,143: INFO: 3571002178: (64, 11)]\n",
      "[2025-03-24 20:16:22,143: INFO: 3571002178: (64,)]\n",
      "[2025-03-24 20:16:22,152: INFO: 3571002178: (16, 11)]\n",
      "[2025-03-24 20:16:22,153: INFO: 3571002178: (16,)]\n",
      "(64, 11)\n",
      "(64,)\n",
      "(16, 11)\n",
      "(16,)\n"
     ]
    }
   ],
   "source": [
    "try:\n",
    "    config = ConfigurationManager()\n",
    "    data_transformation_config = config.get_data_transformation_config()\n",
    "    data_transformation = DataTransformation(config=data_transformation_config)\n",
    "    data_transformation.get_transformed_data()\n",
    "except Exception as e:\n",
    "    raise e"
   ]
  },
  {
   "cell_type": "code",
   "execution_count": null,
   "metadata": {},
   "outputs": [],
   "source": []
  }
 ],
 "metadata": {
  "kernelspec": {
   "display_name": "F1ML",
   "language": "python",
   "name": "python3"
  },
  "language_info": {
   "codemirror_mode": {
    "name": "ipython",
    "version": 3
   },
   "file_extension": ".py",
   "mimetype": "text/x-python",
   "name": "python",
   "nbconvert_exporter": "python",
   "pygments_lexer": "ipython3",
   "version": "3.11.11"
  }
 },
 "nbformat": 4,
 "nbformat_minor": 2
}
