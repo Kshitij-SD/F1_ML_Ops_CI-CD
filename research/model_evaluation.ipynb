{
 "cells": [
  {
   "cell_type": "code",
   "execution_count": 1,
   "metadata": {},
   "outputs": [],
   "source": [
    "import os"
   ]
  },
  {
   "cell_type": "code",
   "execution_count": 2,
   "metadata": {},
   "outputs": [],
   "source": [
    "os.chdir(\"../\")"
   ]
  },
  {
   "cell_type": "code",
   "execution_count": 3,
   "metadata": {},
   "outputs": [
    {
     "data": {
      "text/plain": [
       "'c:\\\\Users\\\\Kshitij\\\\Downloads\\\\F1_CICD\\\\F1_ML_Ops_CI-CD'"
      ]
     },
     "execution_count": 3,
     "metadata": {},
     "output_type": "execute_result"
    }
   ],
   "source": [
    "%pwd"
   ]
  },
  {
   "cell_type": "code",
   "execution_count": 4,
   "metadata": {},
   "outputs": [],
   "source": [
    "from dataclasses import dataclass\n",
    "from pathlib import Path\n",
    "\n",
    "\n",
    "@dataclass(frozen=True)\n",
    "class ModelEvaluationConfig:\n",
    "    root_dir: Path\n",
    "    test_data_path: Path\n",
    "    model_path: Path"
   ]
  },
  {
   "cell_type": "code",
   "execution_count": 8,
   "metadata": {},
   "outputs": [],
   "source": [
    "from F1_Stint_Prediction.constants import *\n",
    "from F1_Stint_Prediction.utils.common import read_yaml, create_directories, save_json"
   ]
  },
  {
   "cell_type": "code",
   "execution_count": 19,
   "metadata": {},
   "outputs": [],
   "source": [
    "class ConfigurationManager:\n",
    "    def __init__(\n",
    "        self,\n",
    "        config_filepath = CONFIG_FILE_PATH,\n",
    "        params_filepath = PARAMS_FILE_PATH,\n",
    "        schema_filepath = SCHEMA_FILE_PATH):\n",
    "\n",
    "        self.config = read_yaml(config_filepath)\n",
    "        self.params = read_yaml(params_filepath)\n",
    "        self.schema = read_yaml(schema_filepath)\n",
    "\n",
    "        create_directories([self.config.artifacts_root])\n",
    "\n",
    "    \n",
    "    def get_model_evaluation_config(self) -> ModelEvaluationConfig:\n",
    "        config = self.config.model_evaluation\n",
    "        params = self.params.Xgboost\n",
    "\n",
    "        create_directories([config.root_dir])\n",
    "\n",
    "        model_evaluation_config = ModelEvaluationConfig(\n",
    "            root_dir=config.root_dir,\n",
    "            test_data_path=config.test_data_path,\n",
    "            model_path = config.model_path,\n",
    "        )\n",
    "\n",
    "        return model_evaluation_config"
   ]
  },
  {
   "cell_type": "code",
   "execution_count": 16,
   "metadata": {},
   "outputs": [],
   "source": [
    "import os\n",
    "import pandas as pd\n",
    "from sklearn.metrics import mean_squared_error, mean_absolute_error, r2_score,precision_score,accuracy_score,f1_score,recall_score\n",
    "from urllib.parse import urlparse\n",
    "import numpy as np\n",
    "import joblib"
   ]
  },
  {
   "cell_type": "code",
   "execution_count": 22,
   "metadata": {},
   "outputs": [],
   "source": [
    "class ModelEvaluation:\n",
    "    def __init__(self, config: ModelEvaluationConfig):\n",
    "        self.config = config\n",
    "\n",
    "    def eval_data(self):\n",
    "        stint_count_model = joblib.load(self.config.model_path + \"/stint_count.joblib\")\n",
    "        X_test_stint_count = pd.read_csv(self.config.test_data_path + \"/X_test_stint_count_0.csv\")\n",
    "        y_test_stint_count = pd.read_csv(self.config.test_data_path + \"/y_test_stint_count_0.csv\")\n",
    "        \n",
    "        predicted_stint_counts = stint_count_model.predict(X_test_stint_count)\n",
    "        \n",
    "        (rmse, mae, r2) = self.eval_metrics_reg(y_test_stint_count, predicted_stint_counts)\n",
    "        scores = {\"rmse\": rmse, \"mae\": mae, \"r2\": r2}\n",
    "        save_json(path=Path(self.config.root_dir + \"/stint_count.json\"), data=scores)\n",
    "    \n",
    "        for i in range(1,5):\n",
    "            model = joblib.load(self.config.model_path + f\"/Compound_Stint_{i}.joblib\")\n",
    "            X_test = pd.read_csv(self.config.test_data_path + f\"/X_test_compound_{i}.csv\")\n",
    "            y_test = pd.read_csv(self.config.test_data_path + f\"/y_test_compound_{i}.csv\")\n",
    "            predicted = model.predict(X_test)\n",
    "            (accuracy,precision,recall,f1) = self.eval_metrics_class(y_test,predicted)\n",
    "            scores = {\"accuracy\": accuracy, \"precision\": precision, \"recall\": recall,\"f1\": f1}\n",
    "            save_json(path=Path(self.config.root_dir + f\"/compound_{i}.json\"), data=scores)\n",
    "            \n",
    "        for i in range(1,5):\n",
    "            model = joblib.load(self.config.model_path + f\"/Stint_len_{i}.joblib\")\n",
    "            X_test = pd.read_csv(self.config.test_data_path + f\"/X_test_stint_len_{i}.csv\")\n",
    "            y_test = pd.read_csv(self.config.test_data_path + f\"/y_test_stint_len_{i}.csv\")\n",
    "            predicted = model.predict(X_test)\n",
    "            (rmse, mae, r2) = self.eval_metrics_reg(y_test,predicted)\n",
    "            scores = {\"rmse\": rmse, \"mae\": mae, \"r2\": r2}\n",
    "            save_json(path=Path(self.config.root_dir + f\"/stint_len_{i}.json\"), data=scores)\n",
    "            \n",
    "            \n",
    "    def eval_metrics_reg(self,actual, pred):\n",
    "        rmse = np.sqrt(mean_squared_error(actual, pred))\n",
    "        mae = mean_absolute_error(actual, pred)\n",
    "        r2 = r2_score(actual, pred)\n",
    "        return rmse, mae, r2\n",
    "\n",
    "    def eval_metrics_class(self, actual, pred):\n",
    "        accuracy = accuracy_score(actual, pred)\n",
    "        precision = precision_score(actual, pred, average='weighted', zero_division=0)\n",
    "        recall = recall_score(actual, pred, average='weighted', zero_division=0)\n",
    "        f1 = f1_score(actual, pred, average='weighted', zero_division=0)\n",
    "        return accuracy, precision, recall, f1"
   ]
  },
  {
   "cell_type": "code",
   "execution_count": 23,
   "metadata": {},
   "outputs": [
    {
     "name": "stdout",
     "output_type": "stream",
     "text": [
      "[2025-03-25 12:14:56,277: INFO: common: yaml file: config\\config.yaml loaded successfully]\n",
      "[2025-03-25 12:14:56,285: INFO: common: yaml file: params.yaml loaded successfully]\n",
      "[2025-03-25 12:14:56,291: INFO: common: yaml file: schema.yaml loaded successfully]\n",
      "[2025-03-25 12:14:56,292: INFO: common: created directory at: artifacts]\n",
      "[2025-03-25 12:14:56,294: INFO: common: created directory at: artifacts/model_evaluation]\n",
      "[2025-03-25 12:14:56,321: INFO: common: json file saved at: artifacts\\model_evaluation\\stint_count.json]\n",
      "[2025-03-25 12:14:56,412: INFO: common: json file saved at: artifacts\\model_evaluation\\compound_1.json]\n",
      "[2025-03-25 12:14:56,489: INFO: common: json file saved at: artifacts\\model_evaluation\\compound_2.json]\n",
      "[2025-03-25 12:14:56,561: INFO: common: json file saved at: artifacts\\model_evaluation\\compound_3.json]\n",
      "[2025-03-25 12:14:56,610: INFO: common: json file saved at: artifacts\\model_evaluation\\compound_4.json]\n",
      "[2025-03-25 12:14:56,641: INFO: common: json file saved at: artifacts\\model_evaluation\\stint_len_1.json]\n",
      "[2025-03-25 12:14:56,701: INFO: common: json file saved at: artifacts\\model_evaluation\\stint_len_2.json]\n",
      "[2025-03-25 12:14:56,760: INFO: common: json file saved at: artifacts\\model_evaluation\\stint_len_3.json]\n",
      "[2025-03-25 12:14:56,823: INFO: common: json file saved at: artifacts\\model_evaluation\\stint_len_4.json]\n"
     ]
    }
   ],
   "source": [
    "try:\n",
    "    config = ConfigurationManager()\n",
    "    model_evaluation_config = config.get_model_evaluation_config()\n",
    "    model_evaluation_config = ModelEvaluation(config=model_evaluation_config)\n",
    "    model_evaluation_config.eval_data()\n",
    "except Exception as e:\n",
    "    raise e"
   ]
  },
  {
   "cell_type": "code",
   "execution_count": null,
   "metadata": {},
   "outputs": [],
   "source": []
  }
 ],
 "metadata": {
  "kernelspec": {
   "display_name": "F1ML",
   "language": "python",
   "name": "python3"
  },
  "language_info": {
   "codemirror_mode": {
    "name": "ipython",
    "version": 3
   },
   "file_extension": ".py",
   "mimetype": "text/x-python",
   "name": "python",
   "nbconvert_exporter": "python",
   "pygments_lexer": "ipython3",
   "version": "3.11.11"
  }
 },
 "nbformat": 4,
 "nbformat_minor": 2
}
